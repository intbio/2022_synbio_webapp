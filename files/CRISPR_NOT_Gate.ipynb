{
 "cells": [
  {
   "cell_type": "code",
   "execution_count": 1,
   "metadata": {},
   "outputs": [],
   "source": [
    "from IPython.display import display\n",
    "import math\n",
    "import piplite\n",
    "await piplite.install(\"bqplot\")\n",
    "await piplite.install(\"ipywidgets\")\n",
    "import bqplot\n",
    "from bqplot import pyplot as plt\n",
    "import ipywidgets as widgets\n",
    "import numpy as np\n",
    "from scipy.integrate import solve_ivp\n",
    "from scipy.optimize import root, fsolve"
   ]
  },
  {
   "cell_type": "code",
   "execution_count": 2,
   "metadata": {},
   "outputs": [],
   "source": [
    "n = 0.9\n",
    "k1 = [0.604, 3.765]\n",
    "k1b = 0.05\n",
    "Km = 40\n",
    "s = 0\n",
    "m = [5,0]\n",
    "p = [30,0,200]\n",
    "tau_mRNA = 2\n",
    "tau_prot = 10\n",
    "kd_m = [math.log(2)/tau_mRNA, math.log(2)/3]\n",
    "kd_p = [math.log(2)/tau_prot, math.log(2)/11]\n",
    "k_tl = [0.34, 2.017]\n",
    "k_f = 0.5  \n",
    "k_d = 0.025"
   ]
  },
  {
   "cell_type": "code",
   "execution_count": 3,
   "metadata": {},
   "outputs": [],
   "source": [
    "def dCas_NOT_model(t, data, k1, k1b, Km, kd_m, kd_p, k_f, k_d, k_tl, s, n):\n",
    "    m = data[:2]\n",
    "    p = data[2:]\n",
    "    dm0 = -kd_m[0]*m[0] + k1[0]\n",
    "    dm1 = -kd_m[1]*m[1] + k1[1]*(Km**n)/((Km**n)+(p[1])**n) +  k1b\n",
    "    dp0 = -kd_p[0]*p[0] + k_tl[0]*m[0] + k_d*p[1] - k_f*p[0]*s\n",
    "    dp1 = -k_d*p[1] + k_f*p[0]*s - kd_p[0]*p[1]\n",
    "    dp2 = -kd_p[1]*p[2] + k_tl[1]*m[1]\n",
    "    return [dm0,dm1,dp0,dp1,dp2]"
   ]
  },
  {
   "cell_type": "code",
   "execution_count": 4,
   "metadata": {},
   "outputs": [],
   "source": [
    "t0 = 0.0\n",
    "tf = 200.0\n",
    "time = np.linspace(0.0,200.0,2000)\n",
    "initval = np.array([*m,*p])\n",
    "res = solve_ivp(dCas_NOT_model, (t0,tf), initval, method='RK45', t_eval=time, args=(k1,k1b,Km,kd_m,kd_p,k_f,k_d,k_tl,s,n))\n",
    "res = dict(res)\n",
    "time = res['t'] \n",
    "y = res['y']\n",
    "yGFP =y[4]\n"
   ]
  },
  {
   "cell_type": "code",
   "execution_count": 5,
   "metadata": {},
   "outputs": [],
   "source": [
    "fig = plt.figure(title=\"dCas9 NOT-gate model\", legend_location=\"top-left\")\n",
    "fig.layout.height = '500px'\n",
    "fig.layout.width = '650px'\n",
    "\n",
    "line_chart = plt.plot(x=time, y=yGFP, labels=[\"GFP\"], colors=['green'],\n",
    "                     display_legend=True)\n",
    "\n",
    "plt.xlabel(\"Time, min\")\n",
    "plt.ylabel(\"Number of molecules\")"
   ]
  },
  {
   "cell_type": "code",
   "execution_count": 6,
   "metadata": {},
   "outputs": [],
   "source": [
    "def update_plot(tM1, tM2, tP1, tP2, CmCas, CmGFP, Cs, CpCas_f, CpGFP, n):\n",
    "    s = Cs\n",
    "    kd_m = [math.log(2)/tM1, math.log(2)/tM2]\n",
    "    kd_p = [math.log(2)/tP1, math.log(2)/tP2]\n",
    "    t0 = 0.0\n",
    "    tf = 200.0\n",
    "    time = np.linspace(0.0,200.0,2000)\n",
    "    initval = np.array([CmCas, CmGFP, CpCas_f, p[1], CpGFP])\n",
    "    res = solve_ivp(dCas_NOT_model, (t0,tf), initval, method='RK45', t_eval=time, args=(k1,k1b,Km,kd_m,kd_p,k_f,k_d,k_tl,s,n))\n",
    "    res = dict(res)\n",
    "    time = res['t']\n",
    "    y = res['y']\n",
    "    yGFP = y[4]\n",
    "    line_chart.y = yGFP\n",
    "    "
   ]
  },
  {
   "cell_type": "code",
   "execution_count": 7,
   "metadata": {},
   "outputs": [],
   "source": [
    "#widgets\n",
    "wdj = widgets.interactive(update_plot, tM1 = widgets.FloatText(value=tau_mRNA, description=\"tM_Cas:\", disabled=False),\n",
    "tM2 = widgets.FloatText(value=3, description=\"tM_GFP:\", disabled=False),                           \n",
    "tP1 = widgets.FloatText(value=tau_prot, description=\"tP_Cas:\", disabled=False),\n",
    "tP2 = widgets.FloatText(value=11, description=\"tP_GFP:\", disabled=False),\n",
    "CmCas = widgets.FloatText(value=m[0], description=\"CmCas:\", disabled=False),\n",
    "CmGFP = widgets.FloatText(value=m[1], description=\"CmGFP:\", disabled=False),\n",
    "Cs = widgets.FloatText(value=s, description=\"C_sgRNA:\", disabled=False),\n",
    "CpCas_f = widgets.FloatText(value=p[0], description=\"CpCas_free:\", disabled=False),\n",
    "CpGFP = widgets.FloatText(value=p[2], description=\"CpGFP:\", disabled=False),\n",
    "n = widgets.FloatSlider(value=n, min=0.9, max=2.0, step=0.1, description=\"n:\", disabled=False))"
   ]
  },
  {
   "cell_type": "code",
   "execution_count": 8,
   "metadata": {},
   "outputs": [
    {
     "data": {
      "application/vnd.jupyter.widget-view+json": {
       "model_id": "67b98c7eadd94f8ebfd891309a688172",
       "version_major": 2,
       "version_minor": 0
      },
      "text/plain": [
       "HBox(children=(Figure(axes=[Axis(label='Time, min', scale=LinearScale(), side='bottom'), Axis(label='Number of…"
      ]
     },
     "metadata": {},
     "output_type": "display_data"
    }
   ],
   "source": [
    "display(widgets.HBox([fig,wdj]))"
   ]
  },
  {
   "cell_type": "markdown",
   "metadata": {},
   "source": [
    "<h2>Finding the fixed points</h2>"
   ]
  },
  {
   "cell_type": "code",
   "execution_count": 9,
   "metadata": {},
   "outputs": [
    {
     "data": {
      "text/plain": [
       "    fjac: array([[-1.00000000e+00,  2.90956495e-15, -9.64723093e-16,\n",
       "         0.00000000e+00, -3.52426421e-14],\n",
       "       [-2.90952076e-15, -1.00000000e+00,  4.89061916e-15,\n",
       "         0.00000000e+00,  1.78662640e-13],\n",
       "       [ 9.64673151e-16, -4.89064877e-15, -1.00000000e+00,\n",
       "         0.00000000e+00, -5.92303984e-14],\n",
       "       [ 0.00000000e+00,  0.00000000e+00,  0.00000000e+00,\n",
       "        -1.00000000e+00,  0.00000000e+00],\n",
       "       [ 3.52414246e-14, -1.78665105e-13,  5.92303984e-14,\n",
       "         0.00000000e+00, -1.00000000e+00]])\n",
       "     fun: array([0.00000000e+00, 2.77555756e-17, 0.00000000e+00, 0.00000000e+00,\n",
       "       0.00000000e+00])\n",
       " message: 'The solution converged.'\n",
       "    nfev: 8\n",
       "     qtf: array([ 7.10453918e-12, -3.60138863e-11,  1.19406707e-11,  0.00000000e+00,\n",
       "        4.36216396e-10])\n",
       "       r: array([-1.00000000e+00,  5.81978042e-15, -1.92950040e-15,  0.00000000e+00,\n",
       "       -7.04887537e-14, -1.00000000e+00,  9.78123832e-15,  0.00000000e+00,\n",
       "        3.57311403e-13, -1.00000000e+00,  0.00000000e+00, -1.18460797e-13,\n",
       "       -1.00000000e+00,  0.00000000e+00, -1.00000000e+00])\n",
       "  status: 1\n",
       " success: True\n",
       "       x: array([ 1.74277561, 16.51164474, 24.5258157 ,  0.        ,  0.        ])"
      ]
     },
     "execution_count": 9,
     "metadata": {},
     "output_type": "execute_result"
    }
   ],
   "source": [
    "#Finding fixed points\n",
    "def eq_points_equations(X, k1, k1b, Km, kd_m, kd_p, k_f, k_d, k_tl, s, n):\n",
    "    Xm1, Xm2, Xp1, Xp2, Xp3 = X\n",
    "    f = [\n",
    "        Xm1 - k1[0]/kd_m[0],\n",
    "        Xm2 - k1[1]*(Km**n)/(((Km**n)+(p[1])**n)*kd_m[1]) -  k1b/kd_m[1],\n",
    "        Xp1 - k_tl[0]*m[0]/kd_p[0] - k_d*p[1]/kd_p[0] + k_f*p[0]*s/kd_p[0],\n",
    "        Xp2 - k_f*p[0]*s/(k_d + kd_p[0]),\n",
    "        Xp3 - k_tl[1]*m[1]/kd_p[1]\n",
    "    \n",
    "    ]\n",
    "    return f\n",
    "\n",
    "points = root(eq_points_equations, initval, args=(k1, k1b, Km, kd_m, kd_p, k_f, k_d, k_tl, s, n))\n",
    "points"
   ]
  },
  {
   "cell_type": "markdown",
   "metadata": {},
   "source": [
    "This system has one fixed point/stationary state"
   ]
  },
  {
   "cell_type": "code",
   "execution_count": 10,
   "metadata": {},
   "outputs": [],
   "source": [
    "fig1 = plt.figure(title=\"Phase portrait 1\", legend_location=\"top-left\")\n",
    "phase1 = plt.plot(y[3], y[4])\n",
    "plt.ylabel(\"GFP, number of proteins\")\n",
    "plt.xlabel(\"dCas9:sgRNA, number of complexes\")\n",
    "fig1.layout.height = '500px'\n",
    "fig1.layout.width = '500px'"
   ]
  },
  {
   "cell_type": "code",
   "execution_count": 11,
   "metadata": {},
   "outputs": [],
   "source": [
    "def update_phase1(tM1, tM2, tP1, tP2, Cs, Km, n):\n",
    "    s = Cs\n",
    "    kd_m = [math.log(2)/tM1, math.log(2)/tM2]\n",
    "    kd_p = [math.log(2)/tP1, math.log(2)/tP2]\n",
    "    t0 = 0.0\n",
    "    tf = 200.0\n",
    "    time = np.linspace(0.0,200.0,2000)\n",
    "    initval = np.array([*m,*p])\n",
    "    res = solve_ivp(dCas_NOT_model, (t0,tf), initval, method='RK45', t_eval=time, args=(k1,k1b,Km,kd_m,kd_p,k_f,k_d,k_tl,s,n))\n",
    "    res = dict(res)\n",
    "    time = res['t']\n",
    "    y = res['y']\n",
    "    yGFP = y[4]\n",
    "    ydCas_s = y[3]\n",
    "    phase1.y = yGFP\n",
    "    phase1.x = ydCas_s"
   ]
  },
  {
   "cell_type": "code",
   "execution_count": 12,
   "metadata": {},
   "outputs": [],
   "source": [
    "wdj1 = widgets.interactive(update_phase1, tM1 = widgets.FloatText(value=tau_mRNA, description=\"tM_Cas:\", disabled=False),\n",
    "tM2 = widgets.FloatText(value=3, description=\"tM_GFP:\", disabled=False),                           \n",
    "tP1 = widgets.FloatText(value=tau_prot, description=\"tP_Cas:\", disabled=False),\n",
    "tP2 = widgets.FloatText(value=11, description=\"tP_GFP:\", disabled=False),\n",
    "Cs = widgets.FloatText(value=s, description=\"C_sgRNA:\", disabled=False),                           \n",
    "Km = widgets.FloatText(value=40, description=\"Km:\", disabled=False),                          \n",
    "n = widgets.FloatSlider(value=n, min=0.9, max=2.0, step=0.1, description=\"n:\", disabled=False))"
   ]
  },
  {
   "cell_type": "code",
   "execution_count": 13,
   "metadata": {},
   "outputs": [
    {
     "data": {
      "application/vnd.jupyter.widget-view+json": {
       "model_id": "74985abed8104697824a166147b56f11",
       "version_major": 2,
       "version_minor": 0
      },
      "text/plain": [
       "HBox(children=(Figure(axes=[Axis(label='dCas9:sgRNA, number of complexes', scale=LinearScale(), side='bottom')…"
      ]
     },
     "metadata": {},
     "output_type": "display_data"
    }
   ],
   "source": [
    "display(widgets.HBox([fig1, wdj1]))"
   ]
  }
 ],
 "metadata": {
  "kernelspec": {
   "display_name": "Python 3",
   "language": "python",
   "name": "python3"
  },
  "language_info": {
   "codemirror_mode": {
    "name": "ipython",
    "version": 3
   },
   "file_extension": ".py",
   "mimetype": "text/x-python",
   "name": "python",
   "nbconvert_exporter": "python",
   "pygments_lexer": "ipython3",
   "version": "3.8.5"
  }
 },
 "nbformat": 4,
 "nbformat_minor": 4
}
