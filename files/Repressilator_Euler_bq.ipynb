{
 "cells": [
  {
   "cell_type": "code",
   "execution_count": 37,
   "metadata": {},
   "outputs": [
    {
     "data": {
      "text/html": [
       "<script>\n",
       "    // AUTORUN ALL CELLS ON NOTEBOOK-LOAD!\n",
       "    require(\n",
       "        ['base/js/namespace', 'jquery'], \n",
       "        function(jupyter, $) {\n",
       "            $(jupyter.events).on(\"kernel_ready.Kernel\", function () {\n",
       "                console.log(\"Auto-running all cells...\");\n",
       "                jupyter.actions.call('jupyter-notebook:run-all-cells');\n",
       "            });\n",
       "        }\n",
       "    );\n",
       "</script>\n"
      ],
      "text/plain": [
       "<IPython.core.display.HTML object>"
      ]
     },
     "metadata": {},
     "output_type": "display_data"
    }
   ],
   "source": [
    "%%html\n",
    "<script>\n",
    "    // AUTORUN ALL CELLS ON NOTEBOOK-LOAD!\n",
    "    require(\n",
    "        ['base/js/namespace', 'jquery'], \n",
    "        function(jupyter, $) {\n",
    "            $(jupyter.events).on(\"kernel_ready.Kernel\", function () {\n",
    "                console.log(\"Auto-running all cells...\");\n",
    "                jupyter.actions.call('jupyter-notebook:run-all-cells');\n",
    "            });\n",
    "        }\n",
    "    );\n",
    "</script>"
   ]
  },
  {
   "cell_type": "code",
   "execution_count": 35,
   "metadata": {},
   "outputs": [
    {
     "ename": "ModuleNotFoundError",
     "evalue": "No module named 'piplite'",
     "output_type": "error",
     "traceback": [
      "\u001b[1;31m---------------------------------------------------------------------------\u001b[0m",
      "\u001b[1;31mModuleNotFoundError\u001b[0m                       Traceback (most recent call last)",
      "\u001b[1;32m<ipython-input-35-e73c374a9764>\u001b[0m in \u001b[0;36m<module>\u001b[1;34m\u001b[0m\n\u001b[0;32m      1\u001b[0m \u001b[1;32mfrom\u001b[0m \u001b[0mIPython\u001b[0m\u001b[1;33m.\u001b[0m\u001b[0mdisplay\u001b[0m \u001b[1;32mimport\u001b[0m \u001b[0mdisplay\u001b[0m\u001b[1;33m\u001b[0m\u001b[1;33m\u001b[0m\u001b[0m\n\u001b[0;32m      2\u001b[0m \u001b[1;32mimport\u001b[0m \u001b[0mmath\u001b[0m\u001b[1;33m\u001b[0m\u001b[1;33m\u001b[0m\u001b[0m\n\u001b[1;32m----> 3\u001b[1;33m \u001b[1;32mimport\u001b[0m \u001b[0mpiplite\u001b[0m\u001b[1;33m\u001b[0m\u001b[1;33m\u001b[0m\u001b[0m\n\u001b[0m\u001b[0;32m      4\u001b[0m \u001b[1;32mawait\u001b[0m \u001b[0mpiplite\u001b[0m\u001b[1;33m.\u001b[0m\u001b[0minstall\u001b[0m\u001b[1;33m(\u001b[0m\u001b[1;34m\"bqplot\"\u001b[0m\u001b[1;33m)\u001b[0m\u001b[1;33m\u001b[0m\u001b[1;33m\u001b[0m\u001b[0m\n\u001b[0;32m      5\u001b[0m \u001b[1;32mawait\u001b[0m \u001b[0mpiplite\u001b[0m\u001b[1;33m.\u001b[0m\u001b[0minstall\u001b[0m\u001b[1;33m(\u001b[0m\u001b[1;34m\"ipywidgets\"\u001b[0m\u001b[1;33m)\u001b[0m\u001b[1;33m\u001b[0m\u001b[1;33m\u001b[0m\u001b[0m\n",
      "\u001b[1;31mModuleNotFoundError\u001b[0m: No module named 'piplite'"
     ]
    }
   ],
   "source": [
    "from IPython.display import display\n",
    "import math\n",
    "import piplite\n",
    "await piplite.install(\"bqplot\")\n",
    "await piplite.install(\"ipywidgets\")\n",
    "import bqplot\n",
    "from bqplot import pyplot as plt\n",
    "import ipywidgets as widgets"
   ]
  },
  {
   "cell_type": "code",
   "execution_count": null,
   "metadata": {},
   "outputs": [],
   "source": [
    "#Variables\n",
    "\n",
    "n = 2 #Hill coefficient\n",
    "Km = 40 #monomeres per cell\n",
    "beta = 0.2\n",
    "alpha0 = 0.2164 \n",
    "alpha = 216.404\n",
    "#Initial concentrations of proteins/mRNAs\n",
    "CmtetR0 = 4\n",
    "Cmlambda0 = 1\n",
    "CmlacI0 = 1\n",
    "CptetR0 = 2\n",
    "Cplambda0 = 1\n",
    "CplacI0 = 1\n",
    "CmtetR = 0\n",
    "Cmlambda = 0\n",
    "CmlacI = 0\n",
    "CptetR = 0\n",
    "Cplambda = 0\n",
    "CplacI = 0"
   ]
  },
  {
   "cell_type": "code",
   "execution_count": null,
   "metadata": {},
   "outputs": [],
   "source": [
    "#Plot building\n",
    "\n",
    "Span = 1000\n",
    "ylacI = [0]*Span\n",
    "ytetR = [0]*Span\n",
    "ylambda = [0]*Span\n",
    "mlacI = [0]*Span\n",
    "mtetR = [0]*Span\n",
    "mlambda = [0]*Span\n",
    "x = [dt*0.1 for dt in range(0, Span)]\n",
    "dt = 0.1\n",
    "\n",
    "for i in range(0,Span):\n",
    "    if (i == 0):\n",
    "            CmlacI = CmlacI0\n",
    "            CmtetR = CmtetR0\n",
    "            Cmlambda = Cmlambda0\n",
    "            CplacI = CplacI0\n",
    "            CptetR = CptetR0\n",
    "            Cplambda = Cplambda0\n",
    "    else:  \n",
    "        CmlacI = mlacI[i-1] + alpha0*dt - mlacI[i-1]*dt + alpha*dt/(1+math.pow(ylambda[i-1],n))\n",
    "        CplacI = ylacI[i-1] - ylacI[i-1]*dt*beta + beta*mlacI[i-1]*dt\n",
    "        CmtetR = mtetR[i-1] + alpha0*dt - mtetR[i-1]*dt + alpha*dt/(1+math.pow(ylacI[i-1],n))\n",
    "        CptetR = ytetR[i-1] - ytetR[i-1]*dt*beta + beta*mtetR[i-1]*dt\n",
    "        Cmlambda = mlambda[i-1] + alpha0*dt - mlambda[i-1]*dt + alpha*dt/(1+math.pow(ytetR[i-1],n))\n",
    "        Cplambda = ylambda[i-1] - ylambda[i-1]*dt*beta + beta*mlambda[i-1]*dt\n",
    "    mlacI[i] = CmlacI\n",
    "    mtetR[i] = CmtetR\n",
    "    mlambda[i] = Cmlambda\n",
    "    ylacI[i] = CplacI\n",
    "    ytetR[i] = CptetR\n",
    "    ylambda[i] = Cplambda"
   ]
  },
  {
   "cell_type": "code",
   "execution_count": null,
   "metadata": {},
   "outputs": [],
   "source": [
    "fig = plt.figure(title=\"Repressilator model\", legend_location=\"top-left\")\n",
    "\n",
    "line_chart = plt.plot(x=x, y=[ylacI, ytetR, ylambda],\n",
    "                     labels=[\"LacI\",\"TetR\", \"cI\"], colors=['blue', 'green', 'red'],\n",
    "                     display_legend=True)\n",
    "\n",
    "plt.xlabel(\"Time/mRNA half-life time\")\n",
    "plt.ylabel(\"Protein concentration, in units of Km\")"
   ]
  },
  {
   "cell_type": "code",
   "execution_count": null,
   "metadata": {},
   "outputs": [],
   "source": [
    "#Callback\n",
    "def update_plot(b, a, a0, CmlacI0, CmtetR0, CmcI0, CplacI0, CptetR0, CpcI0):\n",
    "    ylacI = [0]*Span\n",
    "    ytetR = [0]*Span\n",
    "    ylambda = [0]*Span\n",
    "    mlacI = [0]*Span\n",
    "    mtetR = [0]*Span\n",
    "    mlambda = [0]*Span\n",
    "    for i in range(0,Span):\n",
    "        if (i == 0):\n",
    "            CmlacI = CmlacI0\n",
    "            CmtetR = CmtetR0\n",
    "            Cmlambda = CmcI0\n",
    "            CplacI = CplacI0\n",
    "            CptetR = CptetR0\n",
    "            Cplambda = CpcI0\n",
    "        else:  \n",
    "            CmlacI = mlacI[i-1] + a0*dt - mlacI[i-1]*dt + a*dt/(1+math.pow(ylambda[i-1],n))\n",
    "            CplacI = ylacI[i-1] - ylacI[i-1]*dt*b + b*mlacI[i-1]*dt\n",
    "            CmtetR = mtetR[i-1] + a0*dt - mtetR[i-1]*dt + a*dt/(1+math.pow(ylacI[i-1],n))\n",
    "            CptetR = ytetR[i-1] - ytetR[i-1]*dt*b + b*mtetR[i-1]*dt\n",
    "            Cmlambda = mlambda[i-1] + a0*dt - mlambda[i-1]*dt + a*dt/(1+math.pow(ytetR[i-1],n))\n",
    "            Cplambda = ylambda[i-1] - ylambda[i-1]*dt*b + b*mlambda[i-1]*dt\n",
    "        mlacI[i] = CmlacI\n",
    "        mtetR[i] = CmtetR\n",
    "        mlambda[i] = Cmlambda\n",
    "        ylacI[i] = CplacI\n",
    "        ytetR[i] = CptetR\n",
    "        ylambda[i] = Cplambda\n",
    "    line_chart.y = [ylacI, ytetR, ylambda]"
   ]
  },
  {
   "cell_type": "code",
   "execution_count": null,
   "metadata": {},
   "outputs": [],
   "source": [
    "#widgets\n",
    "wdj = widgets.interactive(update_plot, b = widgets.FloatText(value=beta, description=\"beta:\", disabled=False),\n",
    "a = widgets.FloatText(value=alpha, description=\"alpha:\", disabled=False),\n",
    "a0 = widgets.FloatText(value=alpha0, description=\"alpha0:\", disabled=False),\n",
    "CmlacI0 = widgets.FloatText(value=CmlacI0, description=\"CmlacI0:\", disabled=False),\n",
    "CmtetR0 = widgets.FloatText(value=CmtetR0, description=\"CmtetR0:\", disabled=False),\n",
    "CmcI0 = widgets.FloatText(value=Cmlambda0, description=\"Cmlambda0:\", disabled=False),\n",
    "CplacI0 = widgets.FloatText(value=CplacI0, description=\"CplacI0:\", disabled=False),\n",
    "CptetR0 = widgets.FloatText(value=CptetR0, description=\"CptetR0:\", disabled=False),\n",
    "CpcI0 = widgets.FloatText(value=Cplambda0, description=\"Cplambda0:\", disabled=False))"
   ]
  },
  {
   "cell_type": "code",
   "execution_count": null,
   "metadata": {},
   "outputs": [],
   "source": [
    "display(widgets.HBox([fig, wdj]))"
   ]
  }
 ],
 "metadata": {
  "kernelspec": {
   "display_name": "Python 3",
   "language": "python",
   "name": "python3"
  },
  "language_info": {
   "codemirror_mode": {
    "name": "ipython",
    "version": 3
   },
   "file_extension": ".py",
   "mimetype": "text/x-python",
   "name": "python",
   "nbconvert_exporter": "python",
   "pygments_lexer": "ipython3",
   "version": "3.8.5"
  }
 },
 "nbformat": 4,
 "nbformat_minor": 4
}
