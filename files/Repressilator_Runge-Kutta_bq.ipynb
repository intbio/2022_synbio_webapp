{
 "cells": [
  {
   "cell_type": "code",
   "execution_count": 22,
   "metadata": {},
   "outputs": [],
   "source": [
    "from IPython.display import display\n",
    "import math\n",
    "import piplite\n",
    "await piplite.install(\"bqplot\")\n",
    "await piplite.install(\"ipywidgets\")\n",
    "import bqplot\n",
    "from bqplot import pyplot as plt\n",
    "import ipywidgets as widgets\n",
    "import numpy as np\n",
    "from scipy.integrate import solve_ivp\n",
    "from scipy.optimize import root, fsolve"
   ]
  },
  {
   "cell_type": "code",
   "execution_count": 23,
   "metadata": {},
   "outputs": [],
   "source": [
    "#Variables\n",
    "\n",
    "n = 2 #Hill coefficient\n",
    "Km = 40 #monomeres per cell\n",
    "beta = 0.2\n",
    "alpha0 = 0.2164 \n",
    "alpha = 216.404\n",
    "tau_mRNA = 2\n",
    "tau_prot = 10\n",
    "kd_m = math.log(2)/tau_mRNA\n",
    "kd_p = math.log(2)/tau_prot\n",
    "k_tl = 6.93\n",
    "\n",
    "CmtetR0 = 1\n",
    "Cmlambda0 = 4\n",
    "CmlacI0 = 1\n",
    "CptetR0 = 2\n",
    "Cplambda0 = 1\n",
    "CplacI0 = 1"
   ]
  },
  {
   "cell_type": "code",
   "execution_count": 24,
   "metadata": {},
   "outputs": [],
   "source": [
    "#Calculating data for plots\n",
    "    \n",
    "def repressilator_model(t, data, alpha0, alpha, kd_m, kd_p, k_tl, n):\n",
    "    m = data[:3]\n",
    "    p = data[3:]\n",
    "    dm0 = -kd_m*m[0] + alpha*(Km**n)/((Km**n)+(p[2])**n) + alpha0\n",
    "    dm1 = -kd_m*m[1] + alpha*(Km**n)/((Km**n)+(p[0])**n) + alpha0\n",
    "    dm2 = -kd_m*m[2] + alpha*(Km**n)/((Km**n)+(p[1])**n) + alpha0\n",
    "    dp0 = -kd_p*p[0] + k_tl*m[0]\n",
    "    dp1 = -kd_p*p[1] + k_tl*m[1]\n",
    "    dp2 = -kd_p*p[2] + k_tl*m[2]\n",
    "    return [dm0,dm1,dm2,dp0,dp1,dp2]\n",
    "    \n",
    "t0 = 0.0\n",
    "tf = 1000.0\n",
    "time = np.linspace(0.0,1000.0,10000)\n",
    "initval = np.array([CmtetR0,Cmlambda0,CmlacI0,CptetR0,Cplambda0,CplacI0])\n",
    "res = solve_ivp(repressilator_model, (t0,tf), initval, method='RK45', t_eval=time, args=(alpha0,alpha,kd_m,kd_p,k_tl,n))\n",
    "res = dict(res)\n",
    "time = res['t']\n",
    "y = res['y']\n",
    "\n",
    "ylacI = y[5]\n",
    "ytetR = y[3]\n",
    "ylambda = y[4]\n",
    "\n",
    "fig = plt.figure(title=\"Repressilator model\", legend_location=\"top-left\")\n",
    "fig.layout.height = '500px'\n",
    "fig.layout.width = '650px'\n",
    "\n",
    "line_chart = plt.plot(x=time, y=[ylacI, ytetR, ylambda],\n",
    "                     labels=[\"LacI\",\"TetR\", \"cI\"], colors=['blue', 'green', 'red'],\n",
    "                     display_legend=True)\n",
    "\n",
    "plt.xlabel(\"Time, min\")\n",
    "plt.ylabel(\"Number of proteins\")"
   ]
  },
  {
   "cell_type": "code",
   "execution_count": 25,
   "metadata": {},
   "outputs": [],
   "source": [
    "#Callback\n",
    "def update_plot(tM, tP, k_tl, a, a0, CmlacI0, CmtetR0, CmcI0, CplacI0, CptetR0, CpcI0, n):\n",
    "    kd_m = math.log(2)/tM\n",
    "    kd_p = math.log(2)/tP\n",
    "    t0 = 0.0\n",
    "    tf = 1000.0\n",
    "    time = np.linspace(0.0,1000.0,10000)\n",
    "    initval = np.array([CmtetR0,CmcI0,CmlacI0,CptetR0,CpcI0,CplacI0])\n",
    "    res = solve_ivp(repressilator_model, (t0,tf), initval, method='RK45', t_eval=time, args=(a0,a,kd_m,kd_p,k_tl,n))\n",
    "    res = dict(res)\n",
    "    time = res['t']\n",
    "    y = res['y']\n",
    "    ylacI = y[5]\n",
    "    ytetR = y[3]\n",
    "    ylambda = y[4]\n",
    "    line_chart.y = [ylacI, ytetR, ylambda]"
   ]
  },
  {
   "cell_type": "code",
   "execution_count": 26,
   "metadata": {},
   "outputs": [],
   "source": [
    "#widgets\n",
    "wdj = widgets.interactive(update_plot, tM = widgets.FloatText(value=tau_mRNA, description=\"tau_mRNA:\", disabled=False),\n",
    "tP = widgets.FloatText(value=tau_prot, description=\"tau_prot:\", disabled=False),\n",
    "k_tl = widgets.FloatText(value=k_tl, description=\"k_tl:\", disabled=False),                          \n",
    "a = widgets.FloatText(value=alpha, description=\"alpha:\", disabled=False),\n",
    "a0 = widgets.FloatText(value=alpha0, description=\"alpha0:\", disabled=False),\n",
    "CmlacI0 = widgets.FloatText(value=CmlacI0, description=\"CmlacI0:\", disabled=False),\n",
    "CmtetR0 = widgets.FloatText(value=CmtetR0, description=\"CmtetR0:\", disabled=False),\n",
    "CmcI0 = widgets.FloatText(value=Cmlambda0, description=\"Cmlambda0:\", disabled=False),\n",
    "CplacI0 = widgets.FloatText(value=CplacI0, description=\"CplacI0:\", disabled=False),\n",
    "CptetR0 = widgets.FloatText(value=CptetR0, description=\"CptetR0:\", disabled=False),\n",
    "CpcI0 = widgets.FloatText(value=Cplambda0, description=\"Cplambda0:\", disabled=False),\n",
    "n = widgets.FloatSlider(value=n, min=1.0, max=4.0, step=0.1, description=\"n:\", disabled=False))"
   ]
  },
  {
   "cell_type": "code",
   "execution_count": 27,
   "metadata": {},
   "outputs": [
    {
     "data": {
      "application/vnd.jupyter.widget-view+json": {
       "model_id": "e6a9726b5dfe4d1cb9436fbd41548669",
       "version_major": 2,
       "version_minor": 0
      },
      "text/plain": [
       "HBox(children=(Figure(axes=[Axis(label='Time, min', scale=LinearScale(), side='bottom'), Axis(label='Number of…"
      ]
     },
     "metadata": {},
     "output_type": "display_data"
    }
   ],
   "source": [
    "display(widgets.HBox([fig, wdj]))"
   ]
  },
  {
   "cell_type": "markdown",
   "metadata": {},
   "source": [
    "<h2>Finding the fixed points</h2>"
   ]
  },
  {
   "cell_type": "code",
   "execution_count": 28,
   "metadata": {},
   "outputs": [],
   "source": [
    "#Finding fixed points\n",
    "def eq_points_equations(X, alpha, alpha0, kd_m, kd_p, k_tl, Km, n):\n",
    "    Xm1, Xm2, Xm3, Xp1, Xp2, Xp3 = X\n",
    "    f = [\n",
    "        Xm1 - (alpha*(Km**n)/(kd_m*(Km**n+Xp3**n)) + alpha0/kd_m),\n",
    "        Xm2 - (alpha*(Km**n)/(kd_m*(Km**n+Xp1**n)) + alpha0/kd_m),\n",
    "        Xm3 - (alpha*(Km**n)/(kd_m*(Km**n+Xp2**n)) + alpha0/kd_m),\n",
    "        Xp1 - k_tl*Xm1/kd_p,\n",
    "        Xp2 - k_tl*Xm2/kd_p,\n",
    "        Xp3 - k_tl*Xm3/kd_p\n",
    "    ]\n",
    "    return f\n",
    "\n",
    "points = root(eq_points_equations, [CmtetR0, Cmlambda0, CmlacI0, CptetR0, Cplambda0, CplacI0], args=(alpha, alpha0, kd_m, kd_p, k_tl, Km, n))\n",
    "#points"
   ]
  },
  {
   "cell_type": "code",
   "execution_count": 29,
   "metadata": {},
   "outputs": [
    {
     "data": {
      "text/plain": [
       "(4.848065354130793,\n",
       " 4.848065354150609,\n",
       " 4.848065354168917,\n",
       " 484.7035932106894,\n",
       " 484.70359321267057,\n",
       " 484.703593214501)"
      ]
     },
     "execution_count": 29,
     "metadata": {},
     "output_type": "execute_result"
    }
   ],
   "source": [
    "Xm1, Xm2, Xm3, Xp1, Xp2, Xp3 = points.x\n",
    "Xm1, Xm2, Xm3, Xp1, Xp2, Xp3"
   ]
  },
  {
   "cell_type": "markdown",
   "metadata": {},
   "source": [
    "As we can see above there is exactly 1 fixed point in this system. Which type is it?"
   ]
  },
  {
   "cell_type": "markdown",
   "metadata": {},
   "source": [
    "<h2>Phase portraits</h2>"
   ]
  },
  {
   "cell_type": "code",
   "execution_count": 30,
   "metadata": {},
   "outputs": [],
   "source": [
    "#cI-lacI phase portrait\n",
    "fig1 = plt.figure(title=\"Phase portrait 1\", legend_location=\"top-left\")\n",
    "phase1 = plt.plot(y[4], y[5])\n",
    "plt.ylabel(\"lacI, number of proteins\")\n",
    "plt.xlabel(\"cl, number of proteins\")\n",
    "fig1.layout.height = '500px'\n",
    "fig1.layout.width = '500px'"
   ]
  },
  {
   "cell_type": "code",
   "execution_count": 31,
   "metadata": {},
   "outputs": [],
   "source": [
    "def update_phase1(tM, tP, n):\n",
    "    kd_m = math.log(2)/tM\n",
    "    kd_p = math.log(2)/tP\n",
    "    a = 216.404\n",
    "    a0 = 0.2164\n",
    "    k_tl = 6.93\n",
    "    CmtetR0 = 1\n",
    "    CmcI0 = 4\n",
    "    CmlacI0 = 1\n",
    "    CptetR0 = 2\n",
    "    CpcI0 = 1\n",
    "    CplacI0 = 1\n",
    "    t0 = 0.0\n",
    "    tf = 1000.0\n",
    "    time = np.linspace(0.0,1000.0,10000)\n",
    "    initval = np.array([CmtetR0,CmcI0,CmlacI0,CptetR0,CpcI0,CplacI0])\n",
    "    res = solve_ivp(repressilator_model, (t0,tf), initval, method='RK45', t_eval=time, args=(a0,a,kd_m,kd_p,k_tl, n))\n",
    "    res = dict(res)\n",
    "    y = res['y']\n",
    "    ylacI = y[5]\n",
    "    ylambda = y[4]\n",
    "    phase1.x = ylambda\n",
    "    phase1.y = ylacI"
   ]
  },
  {
   "cell_type": "code",
   "execution_count": 32,
   "metadata": {},
   "outputs": [],
   "source": [
    "wdj1 = widgets.interactive(update_phase1, tM = widgets.FloatText(value=tau_mRNA, description=\"tau_mRNA:\", disabled=False),\n",
    "tP = widgets.FloatText(value=tau_prot, description=\"tau_prot:\", disabled=False),\n",
    "n = widgets.FloatSlider(value=n, min=1.0, max=4.0, step=0.1, description=\"n:\", disabled=False))"
   ]
  },
  {
   "cell_type": "code",
   "execution_count": 33,
   "metadata": {},
   "outputs": [
    {
     "data": {
      "application/vnd.jupyter.widget-view+json": {
       "model_id": "30c3bb17233d49a59de3caa751dbc3fc",
       "version_major": 2,
       "version_minor": 0
      },
      "text/plain": [
       "HBox(children=(Figure(axes=[Axis(label='cl, number of proteins', scale=LinearScale(), side='bottom'), Axis(lab…"
      ]
     },
     "metadata": {},
     "output_type": "display_data"
    }
   ],
   "source": [
    "display(widgets.HBox([fig1, wdj1]))"
   ]
  },
  {
   "cell_type": "code",
   "execution_count": 34,
   "metadata": {},
   "outputs": [],
   "source": [
    "#lacI-tetR phase portrait\n",
    "fig2 = plt.figure(title=\"Phase portrait 2\", legend_location=\"top-left\")\n",
    "phase2 = plt.plot(y[5], y[3])\n",
    "plt.ylabel(\"tetR, number of proteins\")\n",
    "plt.xlabel(\"lacI, number of proteins\")\n",
    "fig2.layout.height = '500px'\n",
    "fig2.layout.width = '500px'"
   ]
  },
  {
   "cell_type": "code",
   "execution_count": 35,
   "metadata": {},
   "outputs": [],
   "source": [
    "def update_phase2(tM, tP, n):\n",
    "    kd_m = math.log(2)/tM\n",
    "    kd_p = math.log(2)/tP\n",
    "    a = 216.404\n",
    "    a0 = 0.2164\n",
    "    k_tl = 6.93\n",
    "    CmtetR0 = 1\n",
    "    CmcI0 = 4\n",
    "    CmlacI0 = 1\n",
    "    CptetR0 = 2\n",
    "    CpcI0 = 1\n",
    "    CplacI0 = 1\n",
    "    t0 = 0.0\n",
    "    tf = 1000.0\n",
    "    time = np.linspace(0.0,1000.0,10000)\n",
    "    initval = np.array([CmtetR0,CmcI0,CmlacI0,CptetR0,CpcI0,CplacI0])\n",
    "    res = solve_ivp(repressilator_model, (t0,tf), initval, method='RK45', t_eval=time, args=(a0,a,kd_m,kd_p,k_tl, n))\n",
    "    res = dict(res)\n",
    "    y = res['y']\n",
    "    ylacI = y[5]\n",
    "    ytetR = y[3]\n",
    "    phase2.x = ylacI\n",
    "    phase2.y = ytetR"
   ]
  },
  {
   "cell_type": "code",
   "execution_count": 36,
   "metadata": {},
   "outputs": [],
   "source": [
    "wdj2 = widgets.interactive(update_phase2, tM = widgets.FloatText(value=tau_mRNA, description=\"tau_mRNA:\", disabled=False),\n",
    "tP = widgets.FloatText(value=tau_prot, description=\"tau_prot:\", disabled=False),\n",
    "n = widgets.FloatSlider(value=n, min=1.0, max=4.0, step=0.1, description=\"n:\", disabled=False))"
   ]
  },
  {
   "cell_type": "code",
   "execution_count": 37,
   "metadata": {},
   "outputs": [
    {
     "data": {
      "application/vnd.jupyter.widget-view+json": {
       "model_id": "8b44d043dbb9413b9ba45cf671a5a1f3",
       "version_major": 2,
       "version_minor": 0
      },
      "text/plain": [
       "HBox(children=(Figure(axes=[Axis(label='lacI, number of proteins', scale=LinearScale(), side='bottom'), Axis(l…"
      ]
     },
     "metadata": {},
     "output_type": "display_data"
    }
   ],
   "source": [
    "display(widgets.HBox([fig2, wdj2]))"
   ]
  },
  {
   "cell_type": "code",
   "execution_count": 38,
   "metadata": {},
   "outputs": [],
   "source": [
    "#tetR-cI phase portrait\n",
    "fig3 = plt.figure(title=\"Phase portrait 3\", legend_location=\"top-left\")\n",
    "phase3 = plt.plot(y[3],y[4])\n",
    "plt.xlabel(\"tetR, number of proteins\")\n",
    "plt.ylabel(\"cl, number of proteins\")\n",
    "fig3.layout.height = '500px'\n",
    "fig3.layout.width = '500px'"
   ]
  },
  {
   "cell_type": "code",
   "execution_count": 39,
   "metadata": {},
   "outputs": [],
   "source": [
    "def update_phase3(tM, tP, n):\n",
    "    kd_m = math.log(2)/tM\n",
    "    kd_p = math.log(2)/tP\n",
    "    a = 216.404\n",
    "    a0 = 0.2164\n",
    "    k_tl = 6.93\n",
    "    CmtetR0 = 1\n",
    "    CmcI0 = 4\n",
    "    CmlacI0 = 1\n",
    "    CptetR0 = 2\n",
    "    CpcI0 = 1\n",
    "    CplacI0 = 1\n",
    "    t0 = 0.0\n",
    "    tf = 1000.0\n",
    "    time = np.linspace(0.0,1000.0,10000)\n",
    "    initval = np.array([CmtetR0,CmcI0,CmlacI0,CptetR0,CpcI0,CplacI0])\n",
    "    res = solve_ivp(repressilator_model, (t0,tf), initval, method='RK45', t_eval=time, args=(a0,a,kd_m,kd_p,k_tl, n))\n",
    "    res = dict(res)\n",
    "    y = res['y']\n",
    "    ylambda = y[4]\n",
    "    ytetR = y[3]\n",
    "    phase3.x = ytetR\n",
    "    phase3.y = ylambda"
   ]
  },
  {
   "cell_type": "code",
   "execution_count": 40,
   "metadata": {},
   "outputs": [],
   "source": [
    "wdj3 = widgets.interactive(update_phase3, tM = widgets.FloatText(value=tau_mRNA, description=\"tau_mRNA:\", disabled=False),\n",
    "tP = widgets.FloatText(value=tau_prot, description=\"tau_prot:\", disabled=False),\n",
    "n = widgets.FloatSlider(value=n, min=1.0, max=4.0, step=0.1, description=\"n:\", disabled=False))"
   ]
  },
  {
   "cell_type": "code",
   "execution_count": 41,
   "metadata": {},
   "outputs": [
    {
     "data": {
      "application/vnd.jupyter.widget-view+json": {
       "model_id": "09cce9ab59bd4b00a31e35dfe8d440ac",
       "version_major": 2,
       "version_minor": 0
      },
      "text/plain": [
       "HBox(children=(Figure(axes=[Axis(label='tetR, number of proteins', scale=LinearScale(), side='bottom'), Axis(l…"
      ]
     },
     "metadata": {},
     "output_type": "display_data"
    }
   ],
   "source": [
    "display(widgets.HBox([fig3, wdj3]))"
   ]
  }
 ],
 "metadata": {
  "kernelspec": {
   "display_name": "Python 3",
   "language": "python",
   "name": "python3"
  },
  "language_info": {
   "codemirror_mode": {
    "name": "ipython",
    "version": 3
   },
   "file_extension": ".py",
   "mimetype": "text/x-python",
   "name": "python",
   "nbconvert_exporter": "python",
   "pygments_lexer": "ipython3",
   "version": "3.8.5"
  }
 },
 "nbformat": 4,
 "nbformat_minor": 4
}
